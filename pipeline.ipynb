{
 "cells": [
  {
   "cell_type": "code",
   "execution_count": 1,
   "id": "eefeaf12",
   "metadata": {},
   "outputs": [],
   "source": [
    "%reload_ext autoreload\n",
    "%autoreload 2\n",
    "from VirusHostNetworkAnalysis.pipeline import Pipeline"
   ]
  },
  {
   "cell_type": "markdown",
   "id": "733f0867",
   "metadata": {},
   "source": [
    "# Global Variables"
   ]
  },
  {
   "cell_type": "markdown",
   "id": "e6c945c0",
   "metadata": {},
   "source": [
    "**INPUT_FILE:** The path to the VHIP output, which is a tsv file.<br>\n",
    "**NUM_SWAPS:** The number of switches to make for each iteration of the Configuration Model. <br>\n",
    "**NUM_RUNS:** The number of times to run the Configuration. Statistics are recalculated after each run to create plots that will determine the number of swaps to make. <br>\n",
    "**NULL_TYPE:** Can be \"CM\", \"ER\", or \"None\" <br>\n",
    "**P_CUTOFF:** The probability to be used to randomly fill the ER matrix. <br> \n",
    "**PROBABILITY_MATRIX:** True or False. If True, will calculate the probability matrix as well as the prediction matrix. If only the prediciton matrix is needed, can be set to False to save time. <br>\n",
    "**NUM_CORES:** The number of cores to be used for multiple processing tasks. If not specified, the default is 6 cores.<br>\n",
    "**PERCENT_REARRANGE:** ?<br>\n",
    "**SINGLE_COLOR:** Enter a single color name. The default is \"indigo\".  The color will be used for predicted interactions and white will be used for non-predicted interactions.<br>\n",
    "**COLORMAP:** For probability heatmaps, enter a list of 5 colors. The colors will be used to create a gradient, where the middle color represents 50% probability. The default is color_map=[\"red\", \"lightpink\", \"white\", \"lightskyblue\", \"blue\"]. <br>\n",
    "**COLOR_RANGE:** For probability heatmaps, enter the range of values to be used for the color gradient. This can change how far each color stretches. The default is [0, 0.2, 0.45, 0.55, 0.8, 1]. When using the default range and colors, red will range from 0-0.2, lightpink from 0.2-0.45, white from 0.45-0.55, lightskyblue from 0.55-0.8, and blue from 0.8-1.<br>"
   ]
  },
  {
   "cell_type": "code",
   "execution_count": 3,
   "id": "369fabe0",
   "metadata": {},
   "outputs": [],
   "source": [
    "INPUT_FILE = \"Sample_Input/Aug4_predictions.tsv\"\n",
    "NUM_SWAPS = 100\n",
    "NUM_RUNS = 20\n",
    "NULL_TYPE = \"CM\"\n",
    "P_CUTOFF = 0.1\n",
    "PROBABILITY_MATRIX = False\n",
    "MAX_ITER = 3000\n",
    "NUM_CORES = 8\n",
    "# PERCENT_REARRANGE\n",
    "SINGLE_COLOR = \"indigo\"\n",
    "COLORMAP = [\"red\", \"lightpink\", \"white\",\"lightskyblue\", \"blue\"]\n",
    "COLOR_RANGE = [0, 0.2, 0.45, 0.55, 0.8, 1]"
   ]
  },
  {
   "cell_type": "markdown",
   "id": "2d8d9657",
   "metadata": {},
   "source": [
    "## Run the pipeline function find_num_swaps() to generate plots that will help determine how many swaps should be used."
   ]
  },
  {
   "cell_type": "code",
   "execution_count": 4,
   "id": "529d581d",
   "metadata": {},
   "outputs": [],
   "source": [
    "run = Pipeline(INPUT_FILE, NULL_TYPE, P_CUTOFF, NUM_SWAPS, NUM_RUNS, NUM_CORES, PROBABILITY_MATRIX, MAX_ITER)"
   ]
  },
  {
   "cell_type": "code",
   "execution_count": null,
   "id": "9835a747",
   "metadata": {},
   "outputs": [],
   "source": [
    "run.find_num_swaps()"
   ]
  },
  {
   "cell_type": "markdown",
   "id": "cfb633e3",
   "metadata": {},
   "source": [
    "## Change the number of swaps and iterations to fit the plots above"
   ]
  },
  {
   "cell_type": "code",
   "execution_count": 5,
   "id": "7b3c749a",
   "metadata": {},
   "outputs": [
    {
     "data": {
      "text/plain": [
       "39419"
      ]
     },
     "execution_count": 5,
     "metadata": {},
     "output_type": "execute_result"
    }
   ],
   "source": [
    "# number of edges in the network run.prediction_matrix.virus_host_array\n",
    "sum(run.prediction_matrix.virus_host_array[run.prediction_matrix.virus_host_array > 0])"
   ]
  },
  {
   "cell_type": "code",
   "execution_count": 6,
   "id": "0ddaa72d",
   "metadata": {},
   "outputs": [],
   "source": [
    "run.num_swaps = (394190)\n",
    "run.num_runs = 5"
   ]
  },
  {
   "cell_type": "markdown",
   "id": "557fd7ea",
   "metadata": {},
   "source": [
    "## Run the pipeline"
   ]
  },
  {
   "cell_type": "code",
   "execution_count": 6,
   "id": "cc0bdac4",
   "metadata": {},
   "outputs": [
    {
     "name": "stdout",
     "output_type": "stream",
     "text": [
      "Nestedness:  61.0361387336295\n",
      "Percent edges:  0.3618546669604171\n",
      "Average number of viruses per host:  2318.764705882353\n",
      "Average number of hosts per virus:  6.151529338327091\n",
      "=======================================================\n",
      "  Infomap v2.8.0 starts at 2025-05-22 12:03:57\n",
      "  -> Input network: \n",
      "  -> No file output!\n",
      "=======================================================\n",
      "  -> Ordinary network input, using the Map Equation for first order network flows\n",
      "Calculating global network flow using flow model 'undirected'... \n",
      "  -> Using undirected links.\n",
      "  => Sum node flow: 1, sum link flow: 1\n",
      "Build internal network with 6425 nodes and 39419 links...\n",
      "  -> One-level codelength: 9.12611876\n",
      "\n",
      "================================================\n",
      "Trial 1/1 starting at 2025-05-22 12:03:57\n",
      "================================================\n",
      "Two-level compression: -1e-11% 1.4e-11% \n",
      "Partitioned to codelength 0 + 9.12611876 = 9.126118763 in 148 (1 non-trivial) modules.\n",
      "Super-level compression: to codelength 9.126118763 in 148 top modules.\n",
      "\n",
      "Recursive sub-structure compression: 0% . Found 2 levels with codelength 9.126118763\n",
      "\n",
      "=> Trial 1/1 finished in 0.029509958s with codelength 9.12611876\n",
      "\n",
      "\n",
      "================================================\n",
      "Summary after 1 trial\n",
      "================================================\n",
      "Best end modular solution in 2 levels:\n",
      "Per level number of modules:         [        148,           0] (sum: 148)\n",
      "Per level number of leaf nodes:      [          0,        6425] (sum: 6425)\n",
      "Per level average child degree:      [        148,     43.4122] (average: 45.7671)\n",
      "Per level codelength for modules:    [0.000000000, 0.000000000] (sum: 0.000000000)\n",
      "Per level codelength for leaf nodes: [0.000000000, 9.126118763] (sum: 9.126118763)\n",
      "Per level codelength total:          [0.000000000, 9.126118763] (sum: 9.126118763)\n",
      "\n",
      "===================================================\n",
      "  Infomap ends at 2025-05-22 12:03:57\n",
      "  (Elapsed time: 0.037899833s)\n",
      "===================================================\n"
     ]
    },
    {
     "name": "stderr",
     "output_type": "stream",
     "text": [
      "Running iterations: 100%|\u001b[32m██████████\u001b[0m| 5/5 [11:12<00:00, 134.55s/it]\n"
     ]
    }
   ],
   "source": [
    "run.run_pipeline()\n"
   ]
  },
  {
   "cell_type": "markdown",
   "id": "02faf98a",
   "metadata": {},
   "source": [
    "## Specify plots to make"
   ]
  },
  {
   "cell_type": "code",
   "execution_count": null,
   "id": "f062e4d1",
   "metadata": {},
   "outputs": [],
   "source": [
    "run.visualize_scores()"
   ]
  },
  {
   "cell_type": "code",
   "execution_count": null,
   "id": "6bd8d28b",
   "metadata": {},
   "outputs": [],
   "source": [
    "run.visualize_prediction_heatmap(SINGLE_COLOR)"
   ]
  },
  {
   "cell_type": "code",
   "execution_count": null,
   "id": "c6553a5f",
   "metadata": {},
   "outputs": [],
   "source": [
    "run.visualize_probability_heatmap(COLORMAP, COLOR_RANGE)"
   ]
  },
  {
   "cell_type": "code",
   "execution_count": null,
   "id": "0750a360",
   "metadata": {},
   "outputs": [],
   "source": [
    "run.visualize_degree_distribution()"
   ]
  },
  {
   "cell_type": "code",
   "execution_count": null,
   "id": "2998cc56",
   "metadata": {},
   "outputs": [],
   "source": [
    "run.visualize_degree_by_species()"
   ]
  },
  {
   "cell_type": "code",
   "execution_count": null,
   "id": "307dfd39",
   "metadata": {},
   "outputs": [],
   "source": [
    "run.visualize_prediction_centrality()"
   ]
  },
  {
   "cell_type": "code",
   "execution_count": null,
   "id": "42f4c430",
   "metadata": {},
   "outputs": [],
   "source": [
    "run.visualize_null_centrality()"
   ]
  },
  {
   "cell_type": "code",
   "execution_count": null,
   "id": "72c7ee64",
   "metadata": {},
   "outputs": [],
   "source": [
    "run.visualize_centrality_over_i()"
   ]
  },
  {
   "cell_type": "code",
   "execution_count": null,
   "id": "34aef8ad",
   "metadata": {},
   "outputs": [],
   "source": [
    "run.visualize_unipartite_projection()"
   ]
  },
  {
   "cell_type": "code",
   "execution_count": null,
   "id": "dfd39b68",
   "metadata": {},
   "outputs": [],
   "source": [
    "run.prediction_properties.unipartite_matrix()\n",
    "for row in range(0, len(run.prediction_properties.unipartite_viruses)):\n",
    "    print(sum(run.prediction_properties.unipartite_viruses[row]))\n",
    "\n"
   ]
  },
  {
   "cell_type": "markdown",
   "id": "23194175",
   "metadata": {},
   "source": [
    "## Export the data into tables"
   ]
  },
  {
   "cell_type": "code",
   "execution_count": 13,
   "id": "a49c4007",
   "metadata": {},
   "outputs": [
    {
     "name": "stdout",
     "output_type": "stream",
     "text": [
      "       Method         Iteration  Number of Swaps  Nestedness\n",
      "0  Prediction        Prediction           394190   61.036139\n",
      "1          CM  Null iteration 1           394190   63.154217\n",
      "2          CM  Null iteration 2           394190   63.099523\n",
      "3          CM  Null iteration 3           394190   63.205488\n",
      "4          CM  Null iteration 4           394190   63.172330\n",
      "5          CM  Null iteration 5           394190   63.083163\n",
      "       Method         Run  Number of Swaps  \\\n",
      "0  Prediction  Prediction           394190   \n",
      "1  Prediction  Prediction           394190   \n",
      "2  Prediction  Prediction           394190   \n",
      "3  Prediction  Prediction           394190   \n",
      "4  Prediction  Prediction           394190   \n",
      "5  Prediction  Prediction           394190   \n",
      "6  Prediction  Prediction           394190   \n",
      "7  Prediction  Prediction           394190   \n",
      "8  Prediction  Prediction           394190   \n",
      "9  Prediction  Prediction           394190   \n",
      "\n",
      "                                     Node  Eigenvector Centrality  \\\n",
      "0          49640--k141_111749||full.fasta                0.017447   \n",
      "1          49618--k141_678278||full.fasta                0.017447   \n",
      "2          49623--k141_121963||full.fasta                0.017447   \n",
      "3              49620--k141_150709_1.fasta                0.017447   \n",
      "4           49640--k141_92302||full.fasta                0.017447   \n",
      "5  concatenated_49640_vRhyme_bin_43.fasta                0.017447   \n",
      "6              49640--k141_107615_1.fasta                0.017447   \n",
      "7          49614--k141_330859||full.fasta                0.016773   \n",
      "8       49614--k141_142261||lt2gene.fasta                0.017190   \n",
      "9            49640--k141_9439||full.fasta                0.017190   \n",
      "\n",
      "   Betweenness Centrality  Closeness Centrality  \n",
      "0                0.000106              0.489221  \n",
      "1                0.000106              0.489221  \n",
      "2                0.000106              0.489221  \n",
      "3                0.000106              0.489221  \n",
      "4                0.000106              0.489221  \n",
      "5                0.000106              0.489221  \n",
      "6                0.000106              0.489221  \n",
      "7                0.000060              0.478310  \n",
      "8                0.000088              0.487975  \n",
      "9                0.000088              0.487975  \n"
     ]
    }
   ],
   "source": [
    "run.export_pipeline_data(\"Results/\", \"Aug4\")"
   ]
  }
 ],
 "metadata": {
  "kernelspec": {
   "display_name": "base",
   "language": "python",
   "name": "python3"
  },
  "language_info": {
   "codemirror_mode": {
    "name": "ipython",
    "version": 3
   },
   "file_extension": ".py",
   "mimetype": "text/x-python",
   "name": "python",
   "nbconvert_exporter": "python",
   "pygments_lexer": "ipython3",
   "version": "3.12.3"
  }
 },
 "nbformat": 4,
 "nbformat_minor": 5
}
