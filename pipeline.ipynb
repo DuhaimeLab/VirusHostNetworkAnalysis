{
 "cells": [
  {
   "cell_type": "code",
   "execution_count": 1,
   "id": "eefeaf12",
   "metadata": {},
   "outputs": [],
   "source": [
    "%reload_ext autoreload\n",
    "%autoreload 2\n",
    "from VirusHostNetworkAnalysis.pipeline import Pipeline"
   ]
  },
  {
   "cell_type": "markdown",
   "id": "733f0867",
   "metadata": {},
   "source": [
    "# Global Variables"
   ]
  },
  {
   "cell_type": "markdown",
   "id": "e6c945c0",
   "metadata": {},
   "source": [
    "**INPUT_FILE:** The path to the VHIP output, which is a tsv file.<br>\n",
    "**NULL_TYPE:** Can be \"CM\", \"ER\", or \"None\" <br>\n",
    "**P_CUTOFF:** The probability to be used to randomly fill the ER matrix. <br> \n",
    "**CM_METHOD:** <br> \n",
    "**PERCENT_SHUFFLE_VIRUS:** <br> \n",
    "**PERCENT_SHUFFLE_HOST:** <br> \n",
    "**NUM_RUNS:** The number of times to run the Configuration. Statistics are recalculated after each run to create plots that will determine the number of swaps to make. <br>\n",
    "**PROBABILITY_MATRIX:** True or False. If True, will calculate the probability matrix as well as the prediction matrix. If only the prediciton matrix is needed, can be set to False to save time. <br>\n",
    "**MAX_ITER:** <br>\n",
    "**NUM_CORES:** The number of cores to be used for multiple processing tasks. If not specified, the default is 6 cores.<br>\n",
    "**SINGLE_COLOR:** Enter a single color name. The default is \"indigo\".  The color will be used for predicted interactions and white will be used for non-predicted interactions.<br>\n",
    "**COLORMAP:** For probability heatmaps, enter a list of 5 colors. The colors will be used to create a gradient, where the middle color represents 50% probability. The default is color_map=[\"red\", \"lightpink\", \"white\", \"lightskyblue\", \"blue\"]. <br>\n",
    "**COLOR_RANGE:** For probability heatmaps, enter the range of values to be used for the color gradient. This can change how far each color stretches. The default is [0, 0.2, 0.45, 0.55, 0.8, 1]. When using the default range and colors, red will range from 0-0.2, lightpink from 0.2-0.45, white from 0.45-0.55, lightskyblue from 0.55-0.8, and blue from 0.8-1.<br>"
   ]
  },
  {
   "cell_type": "code",
   "execution_count": 2,
   "id": "369fabe0",
   "metadata": {},
   "outputs": [],
   "source": [
    "INPUT_FILE = \"Sample_Input/Aug4_predictions.tsv\"\n",
    "NULL_TYPE = \"CM\"\n",
    "P_CUTOFF = 0.1\n",
    "CM_METHOD = \"curveball\"\n",
    "PERECENT_SHUFFLE_VIRUS = 0.3\n",
    "PERCENT_SHUFFLE_HOST = 0.3\n",
    "NUM_RUNS = 30\n",
    "PROBABILITY_MATRIX = False\n",
    "MAX_ITER = 3000\n",
    "NUM_CORES = 8\n",
    "SINGLE_COLOR = \"indigo\"\n",
    "COLORMAP = [\"red\", \"lightpink\", \"white\",\"lightskyblue\", \"blue\"]\n",
    "COLOR_RANGE = [0, 0.2, 0.45, 0.55, 0.8, 1]"
   ]
  },
  {
   "cell_type": "markdown",
   "id": "2d8d9657",
   "metadata": {},
   "source": [
    "## Run the pipeline function find_num_swaps() to generate plots that will help determine how many swaps should be used."
   ]
  },
  {
   "cell_type": "code",
   "execution_count": 3,
   "id": "529d581d",
   "metadata": {},
   "outputs": [],
   "source": [
    "run = Pipeline(INPUT_FILE, NULL_TYPE, P_CUTOFF, CM_METHOD, PERECENT_SHUFFLE_VIRUS, PERCENT_SHUFFLE_HOST, NUM_RUNS, NUM_CORES, PROBABILITY_MATRIX, MAX_ITER)"
   ]
  },
  {
   "cell_type": "code",
   "execution_count": 4,
   "id": "9835a747",
   "metadata": {},
   "outputs": [],
   "source": [
    "#run.find_num_swaps()"
   ]
  },
  {
   "cell_type": "markdown",
   "id": "557fd7ea",
   "metadata": {},
   "source": [
    "## Run the pipeline"
   ]
  },
  {
   "cell_type": "code",
   "execution_count": null,
   "id": "cc0bdac4",
   "metadata": {},
   "outputs": [
    {
     "name": "stdout",
     "output_type": "stream",
     "text": [
      "Nestedness:  61.0361387336295\n",
      "Percent edges:  0.3618546669604171\n",
      "Average number of viruses per host:  2318.764705882353\n",
      "Average number of hosts per virus:  6.151529338327091\n",
      "=======================================================\n",
      "  Infomap v2.8.0 starts at 2025-05-23 10:58:44\n",
      "  -> Input network: \n",
      "  -> No file output!\n",
      "=======================================================\n",
      "  -> Ordinary network input, using the Map Equation for first order network flows\n",
      "Calculating global network flow using flow model 'undirected'... \n",
      "  -> Using undirected links.\n",
      "  => Sum node flow: 1, sum link flow: 1\n",
      "Build internal network with 6425 nodes and 39419 links...\n",
      "  -> One-level codelength: 9.12611876\n",
      "\n",
      "================================================\n",
      "Trial 1/1 starting at 2025-05-23 10:58:44\n",
      "================================================\n",
      "Two-level compression: -1e-11% 1.4e-11% \n",
      "Partitioned to codelength 0 + 9.12611876 = 9.126118763 in 148 (1 non-trivial) modules.\n",
      "Super-level compression: to codelength 9.126118763 in 148 top modules.\n",
      "\n",
      "Recursive sub-structure compression: 0% . Found 2 levels with codelength 9.126118763\n",
      "\n",
      "=> Trial 1/1 finished in 0.032542417s with codelength 9.12611876\n",
      "\n",
      "\n",
      "================================================\n",
      "Summary after 1 trial\n",
      "================================================\n",
      "Best end modular solution in 2 levels:\n",
      "Per level number of modules:         [        148,           0] (sum: 148)\n",
      "Per level number of leaf nodes:      [          0,        6425] (sum: 6425)\n",
      "Per level average child degree:      [        148,     43.4122] (average: 45.7671)\n",
      "Per level codelength for modules:    [0.000000000, 0.000000000] (sum: 0.000000000)\n",
      "Per level codelength for leaf nodes: [0.000000000, 9.126118763] (sum: 9.126118763)\n",
      "Per level codelength total:          [0.000000000, 9.126118763] (sum: 9.126118763)\n",
      "\n",
      "===================================================\n",
      "  Infomap ends at 2025-05-23 10:58:44\n",
      "  (Elapsed time: 0.039860458s)\n",
      "===================================================\n"
     ]
    },
    {
     "name": "stderr",
     "output_type": "stream",
     "text": [
      "Running iterations:  33%|\u001b[32m███▎      \u001b[0m| 10/30 [1:08:11<2:14:42, 404.13s/it]"
     ]
    }
   ],
   "source": [
    "run.run_pipeline()\n"
   ]
  },
  {
   "cell_type": "markdown",
   "id": "02faf98a",
   "metadata": {},
   "source": [
    "## Specify plots to make"
   ]
  },
  {
   "cell_type": "code",
   "execution_count": null,
   "id": "f062e4d1",
   "metadata": {},
   "outputs": [],
   "source": [
    "run.visualize_scores()"
   ]
  },
  {
   "cell_type": "code",
   "execution_count": null,
   "id": "6bd8d28b",
   "metadata": {},
   "outputs": [],
   "source": [
    "run.visualize_prediction_heatmap(SINGLE_COLOR)"
   ]
  },
  {
   "cell_type": "code",
   "execution_count": null,
   "id": "c6553a5f",
   "metadata": {},
   "outputs": [],
   "source": [
    "if PROBABILITY_MATRIX is True:\n",
    "    run.visualize_probability_heatmap(COLORMAP, COLOR_RANGE)"
   ]
  },
  {
   "cell_type": "code",
   "execution_count": null,
   "id": "0750a360",
   "metadata": {},
   "outputs": [],
   "source": [
    "run.visualize_degree_distribution()"
   ]
  },
  {
   "cell_type": "code",
   "execution_count": null,
   "id": "2998cc56",
   "metadata": {},
   "outputs": [],
   "source": [
    "run.visualize_degree_by_species()"
   ]
  },
  {
   "cell_type": "code",
   "execution_count": null,
   "id": "307dfd39",
   "metadata": {},
   "outputs": [],
   "source": [
    "run.visualize_prediction_centrality()"
   ]
  },
  {
   "cell_type": "code",
   "execution_count": null,
   "id": "42f4c430",
   "metadata": {},
   "outputs": [],
   "source": [
    "run.visualize_null_centrality()"
   ]
  },
  {
   "cell_type": "code",
   "execution_count": null,
   "id": "72c7ee64",
   "metadata": {},
   "outputs": [],
   "source": [
    "run.visualize_centrality_over_i()"
   ]
  },
  {
   "cell_type": "code",
   "execution_count": null,
   "id": "34aef8ad",
   "metadata": {},
   "outputs": [],
   "source": [
    "run.visualize_unipartite_projection()"
   ]
  },
  {
   "cell_type": "code",
   "execution_count": null,
   "id": "f3f5345e",
   "metadata": {},
   "outputs": [],
   "source": [
    "run.visualize_nestedness_distribution()"
   ]
  },
  {
   "cell_type": "code",
   "execution_count": null,
   "id": "d7d8afb0",
   "metadata": {},
   "outputs": [],
   "source": [
    "run.visualize_degree_distribution_null()"
   ]
  },
  {
   "cell_type": "code",
   "execution_count": null,
   "id": "4832979f",
   "metadata": {},
   "outputs": [],
   "source": [
    "run.visualize_prediction_vs_null_centrality()"
   ]
  },
  {
   "cell_type": "markdown",
   "id": "23194175",
   "metadata": {},
   "source": [
    "## Export the data into tables"
   ]
  },
  {
   "cell_type": "code",
   "execution_count": null,
   "id": "a49c4007",
   "metadata": {},
   "outputs": [],
   "source": [
    "run.export_pipeline_data(\"Results\", \"Aug4_Curveball_30Runs\")"
   ]
  }
 ],
 "metadata": {
  "kernelspec": {
   "display_name": "base",
   "language": "python",
   "name": "python3"
  },
  "language_info": {
   "codemirror_mode": {
    "name": "ipython",
    "version": 3
   },
   "file_extension": ".py",
   "mimetype": "text/x-python",
   "name": "python",
   "nbconvert_exporter": "python",
   "pygments_lexer": "ipython3",
   "version": "3.12.3"
  }
 },
 "nbformat": 4,
 "nbformat_minor": 5
}
