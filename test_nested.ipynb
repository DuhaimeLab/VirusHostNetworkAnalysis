{
 "cells": [
  {
   "cell_type": "code",
   "execution_count": 1,
   "id": "dca57108",
   "metadata": {},
   "outputs": [],
   "source": [
    "%reload_ext autoreload\n",
    "%autoreload 2"
   ]
  },
  {
   "cell_type": "code",
   "execution_count": 2,
   "id": "5ca5a197",
   "metadata": {},
   "outputs": [],
   "source": [
    "from VirusHostNetworkAnalysis.prediction_matrix import PredictionMatrix\n",
    "from VirusHostNetworkAnalysis.properties import BipartiteGraph\n",
    "from VirusHostNetworkAnalysis.null_model import ConfigurationModel"
   ]
  },
  {
   "cell_type": "code",
   "execution_count": 7,
   "id": "393eefef",
   "metadata": {},
   "outputs": [
    {
     "name": "stdout",
     "output_type": "stream",
     "text": [
      "[[False  True  True  True  True]\n",
      " [ True False  True  True False]\n",
      " [ True  True  True False False]\n",
      " [ True  True False False False]\n",
      " [ True  True False False False]]\n"
     ]
    }
   ],
   "source": [
    "nested_data = PredictionMatrix('tests/test_nestedness.tsv')\n",
    "nested_data.make_rectangular_matrix()\n",
    "nested_prop = BipartiteGraph(nested_data)\n",
    "nested_prop.sort_matrix()\n",
    "print(nested_prop.input_matrix)"
   ]
  },
  {
   "cell_type": "code",
   "execution_count": 8,
   "id": "e854b726",
   "metadata": {},
   "outputs": [
    {
     "data": {
      "text/plain": [
       "58.33333333333333"
      ]
     },
     "execution_count": 8,
     "metadata": {},
     "output_type": "execute_result"
    }
   ],
   "source": [
    "nested_prop.run_nestedness()"
   ]
  },
  {
   "cell_type": "code",
   "execution_count": 47,
   "id": "05c2dc5a",
   "metadata": {},
   "outputs": [
    {
     "data": {
      "text/plain": [
       "array([[ True, False,  True, ..., False,  True, False],\n",
       "       [ True,  True,  True, ...,  True, False,  True],\n",
       "       [ True, False,  True, ..., False,  True, False],\n",
       "       ...,\n",
       "       [ True,  True, False, ..., False, False, False],\n",
       "       [False,  True,  True, ..., False,  True, False],\n",
       "       [ True,  True,  True, ...,  True, False,  True]])"
      ]
     },
     "execution_count": 47,
     "metadata": {},
     "output_type": "execute_result"
    }
   ],
   "source": [
    "subset_100_2000 = PredictionMatrix('Sample_Input/filtered_network.tsv')\n",
    "subset_100_2000.make_rectangular_matrix()"
   ]
  },
  {
   "cell_type": "code",
   "execution_count": 48,
   "id": "19ad9a07",
   "metadata": {},
   "outputs": [],
   "source": [
    "subset_100_2000_prop = BipartiteGraph(subset_100_2000)"
   ]
  },
  {
   "cell_type": "code",
   "execution_count": 49,
   "id": "78e00553",
   "metadata": {},
   "outputs": [
    {
     "data": {
      "text/plain": [
       "69.17555395852854"
      ]
     },
     "execution_count": 49,
     "metadata": {},
     "output_type": "execute_result"
    }
   ],
   "source": [
    "subset_100_2000_prop.run_parallel(8)"
   ]
  },
  {
   "cell_type": "code",
   "execution_count": 39,
   "id": "9ae84097",
   "metadata": {},
   "outputs": [
    {
     "data": {
      "text/plain": [
       "69.17555395852854"
      ]
     },
     "execution_count": 39,
     "metadata": {},
     "output_type": "execute_result"
    }
   ],
   "source": [
    "subset_100_2000_prop.run_nestedness()"
   ]
  },
  {
   "cell_type": "code",
   "execution_count": 41,
   "id": "6f913790",
   "metadata": {},
   "outputs": [
    {
     "data": {
      "text/plain": [
       "array([[ True, False, False, ..., False, False, False],\n",
       "       [ True,  True, False, ...,  True,  True,  True],\n",
       "       [ True,  True,  True, ..., False,  True,  True],\n",
       "       ...,\n",
       "       [ True,  True,  True, ...,  True,  True,  True],\n",
       "       [False, False, False, ..., False, False, False],\n",
       "       [ True,  True,  True, ...,  True,  True,  True]])"
      ]
     },
     "execution_count": 41,
     "metadata": {},
     "output_type": "execute_result"
    }
   ],
   "source": [
    "subset_7_10000 = PredictionMatrix('Sample_Input/subset_7x10000.tsv')\n",
    "subset_7_10000.make_rectangular_matrix()"
   ]
  },
  {
   "cell_type": "code",
   "execution_count": 42,
   "id": "9bf88077",
   "metadata": {},
   "outputs": [
    {
     "data": {
      "text/plain": [
       "72.78848726401175"
      ]
     },
     "execution_count": 42,
     "metadata": {},
     "output_type": "execute_result"
    }
   ],
   "source": [
    "subset_7_10000_prop = BipartiteGraph(subset_7_10000)\n",
    "subset_7_10000_prop.run_parallel(8)"
   ]
  },
  {
   "cell_type": "code",
   "execution_count": 3,
   "id": "927346af",
   "metadata": {},
   "outputs": [
    {
     "data": {
      "text/plain": [
       "array([[ True, False, False, ..., False, False, False],\n",
       "       [ True,  True, False, ...,  True,  True,  True],\n",
       "       [ True,  True,  True, ..., False,  True,  True],\n",
       "       ...,\n",
       "       [ True, False,  True, ...,  True,  True,  True],\n",
       "       [ True, False,  True, ...,  True,  True,  True],\n",
       "       [ True,  True,  True, ..., False,  True,  True]])"
      ]
     },
     "execution_count": 3,
     "metadata": {},
     "output_type": "execute_result"
    }
   ],
   "source": [
    "myco_large = PredictionMatrix('Sample_Input/myco_predictions_genomad_a2vs_updated.tsv')\n",
    "myco_large.make_rectangular_matrix()"
   ]
  },
  {
   "cell_type": "code",
   "execution_count": 5,
   "id": "b522905a",
   "metadata": {},
   "outputs": [
    {
     "name": "stdout",
     "output_type": "stream",
     "text": [
      "{'v2': 0.5116687042046243, 'v3': 0.19544325298260648, 'v5': 0.3162254512220179, 'v6': 0.3162254512220179}\n",
      "{'h1': 0.37175243743550507, 'h4': 0.6014982337968756}\n"
     ]
    }
   ],
   "source": [
    "from matplotlib.pylab import eig\n",
    "import numpy as np\n",
    "test_matrix = PredictionMatrix('tests/test_predictions.tsv', False)\n",
    "test_matrix.make_rectangular_matrix()\n",
    "test_properties = BipartiteGraph(test_matrix)\n",
    "\n",
    "# Test #1\n",
    "test_properties.input_matrix = np.array([[1, 1],\n",
    "                                        [1, 0],\n",
    "                                        [0, 1],\n",
    "                                        [0, 1]])\n",
    "test_properties.rows = np.array([\"v2\", \"v3\", \"v5\", \"v6\"])\n",
    "test_properties.columns = np.array([\"h1\", \"h4\"])\n",
    "test_properties.initialize_graph()\n",
    "test_properties.calculate_centrality(\"eigenvector\")\n",
    "print(test_properties.eigenvector_virus)\n",
    "print(test_properties.eigenvector_host)\n"
   ]
  },
  {
   "cell_type": "code",
   "execution_count": 35,
   "id": "63c1f1f2",
   "metadata": {},
   "outputs": [
    {
     "name": "stdout",
     "output_type": "stream",
     "text": [
      "[[5, 4, 3, 2, 2, 1, 1, 0], [6, 4, 3, 3, 2]]\n",
      "[[0 0 1 0 0]\n",
      " [0 0 1 1 1]\n",
      " [1 1 1 0 1]\n",
      " [0 1 1 0 0]\n",
      " [0 0 0 0 0]\n",
      " [0 1 0 0 0]\n",
      " [0 0 1 1 0]\n",
      " [1 1 1 1 1]]\n",
      "[[1, 3, 4, 2, 0, 1, 2, 5], [2, 4, 6, 3, 3]]\n"
     ]
    }
   ],
   "source": [
    "# test shuffle\n",
    "test = PredictionMatrix('tests/test_predictions.tsv', False)\n",
    "test.make_rectangular_matrix()\n",
    "test.virus_host_array = np.array([[1, 1, 1, 1, 1],\n",
    "                                  [1, 1, 0, 1, 1],\n",
    "                                  [1, 0, 1, 1, 0],\n",
    "                                  [1, 1, 0, 0, 0],\n",
    "                                  [1, 0, 1, 0, 0],\n",
    "                                  [0, 1, 0, 0, 0],\n",
    "                                  [1, 0, 0, 0, 0],\n",
    "                                  [0, 0, 0, 0, 0]])\n",
    "test_properties = BipartiteGraph(test)\n",
    "print(test_properties.calculate_degree())\n",
    "test_cm = ConfigurationModel(test)\n",
    "test_cm.method2(0.6, 0.6)\n",
    "print(test_cm.virus_host_array)\n",
    "test_cm_properties = BipartiteGraph(test_cm)\n",
    "print(test_cm_properties.calculate_degree())\n"
   ]
  },
  {
   "cell_type": "code",
   "execution_count": 4,
   "id": "ed0aff3b",
   "metadata": {},
   "outputs": [],
   "source": [
    "# test time\n",
    "aug4 = PredictionMatrix('Sample_Input/aug4_predictions.tsv', False)\n",
    "aug4.make_rectangular_matrix()\n",
    "aug4_cm = ConfigurationModel(aug4)\n",
    "aug4_cm.bootstrap_stats(1000000)"
   ]
  },
  {
   "cell_type": "code",
   "execution_count": 5,
   "id": "9b0d4459",
   "metadata": {},
   "outputs": [
    {
     "name": "stdout",
     "output_type": "stream",
     "text": [
      "['49640--k141_111749||full.fasta' '49618--k141_678278||full.fasta'\n",
      " '49623--k141_121963||full.fasta' ... '49620--k141_186575||full.fasta'\n",
      " '49623--k141_179749||full.fasta' '49617--k141_3641||full.fasta'] 6408\n",
      "[1531  141 2543 ... 3455 3464 3203] 6408\n"
     ]
    },
    {
     "data": {
      "text/plain": [
       "63.13871075732342"
      ]
     },
     "execution_count": 5,
     "metadata": {},
     "output_type": "execute_result"
    }
   ],
   "source": [
    "aug4_cm_properties = BipartiteGraph(aug4_cm)\n",
    "aug4_cm_properties.run_parallel(8)"
   ]
  },
  {
   "cell_type": "code",
   "execution_count": 7,
   "id": "da6164ff",
   "metadata": {},
   "outputs": [],
   "source": [
    "aug4_cm_properties.calculate_centrality(\"betweenness\", 2000)"
   ]
  },
  {
   "cell_type": "code",
   "execution_count": 9,
   "id": "bf7b50d9",
   "metadata": {},
   "outputs": [],
   "source": [
    "btwn_virus_parallel = aug4_cm_properties.betweenness_virus\n",
    "btwn_host_parallel = aug4_cm_properties.betweenness_host"
   ]
  },
  {
   "cell_type": "code",
   "execution_count": 10,
   "id": "9374efa7",
   "metadata": {},
   "outputs": [],
   "source": [
    "aug4_cm_properties.calculate_centrality(\"betweenness\", 2000)"
   ]
  },
  {
   "cell_type": "code",
   "execution_count": 11,
   "id": "0097696e",
   "metadata": {},
   "outputs": [],
   "source": [
    "btwn_virus = aug4_cm_properties.betweenness_virus\n",
    "btwn_host = aug4_cm_properties.betweenness_host"
   ]
  },
  {
   "cell_type": "code",
   "execution_count": 18,
   "id": "5978cd2a",
   "metadata": {},
   "outputs": [],
   "source": [
    "from math import isclose\n",
    "import numpy as np\n",
    "# check if the parallel and non-parallel results are the same\n",
    "# results are dictionaries with virus/host names as keys and betweenness values as values\n",
    "for key in btwn_virus_parallel.keys():\n",
    "    assert np.isclose(btwn_virus_parallel[key], btwn_virus[key], rtol=1e-5, atol=1e-8)\n",
    "    if np.isclose(btwn_virus_parallel[key], btwn_virus[key], rtol=1e-5, atol=1e-8) is False:\n",
    "        print(f\"Virus {key} is not close\")\n",
    "for key in btwn_host_parallel.keys():\n",
    "    assert np.isclose(btwn_host_parallel[key], btwn_host[key], rtol=1e-5, atol=1e-8)\n",
    "    if np.isclose(btwn_host_parallel[key], btwn_host[key], rtol=1e-5, atol=1e-8) is False:\n",
    "        print(f\"Host {key} is not close\")"
   ]
  },
  {
   "cell_type": "code",
   "execution_count": 19,
   "id": "bc590601",
   "metadata": {},
   "outputs": [
    {
     "data": {
      "text/plain": [
       "8"
      ]
     },
     "execution_count": 19,
     "metadata": {},
     "output_type": "execute_result"
    }
   ],
   "source": [
    "from multiprocessing import cpu_count\n",
    "cpu_count()"
   ]
  }
 ],
 "metadata": {
  "kernelspec": {
   "display_name": "base",
   "language": "python",
   "name": "python3"
  },
  "language_info": {
   "codemirror_mode": {
    "name": "ipython",
    "version": 3
   },
   "file_extension": ".py",
   "mimetype": "text/x-python",
   "name": "python",
   "nbconvert_exporter": "python",
   "pygments_lexer": "ipython3",
   "version": "3.12.3"
  }
 },
 "nbformat": 4,
 "nbformat_minor": 5
}
