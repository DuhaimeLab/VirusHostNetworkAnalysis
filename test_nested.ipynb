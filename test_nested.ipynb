{
 "cells": [
  {
   "cell_type": "code",
   "execution_count": 1,
   "id": "dca57108",
   "metadata": {},
   "outputs": [],
   "source": [
    "%reload_ext autoreload\n",
    "%autoreload 2"
   ]
  },
  {
   "cell_type": "code",
   "execution_count": 2,
   "id": "5ca5a197",
   "metadata": {},
   "outputs": [],
   "source": [
    "from VirusHostNetworkAnalysis.prediction_matrix import PredictionMatrix\n",
    "from VirusHostNetworkAnalysis.properties import BipartiteGraph"
   ]
  },
  {
   "cell_type": "code",
   "execution_count": 7,
   "id": "393eefef",
   "metadata": {},
   "outputs": [
    {
     "name": "stdout",
     "output_type": "stream",
     "text": [
      "[[False  True  True  True  True]\n",
      " [ True False  True  True False]\n",
      " [ True  True  True False False]\n",
      " [ True  True False False False]\n",
      " [ True  True False False False]]\n"
     ]
    }
   ],
   "source": [
    "nested_data = PredictionMatrix('tests/test_nestedness.tsv')\n",
    "nested_data.make_rectangular_matrix()\n",
    "nested_prop = BipartiteGraph(nested_data)\n",
    "nested_prop.sort_matrix()\n",
    "print(nested_prop.input_matrix)"
   ]
  },
  {
   "cell_type": "code",
   "execution_count": 8,
   "id": "e854b726",
   "metadata": {},
   "outputs": [
    {
     "data": {
      "text/plain": [
       "58.33333333333333"
      ]
     },
     "execution_count": 8,
     "metadata": {},
     "output_type": "execute_result"
    }
   ],
   "source": [
    "nested_prop.run_nestedness()"
   ]
  },
  {
   "cell_type": "code",
   "execution_count": 47,
   "id": "05c2dc5a",
   "metadata": {},
   "outputs": [
    {
     "data": {
      "text/plain": [
       "array([[ True, False,  True, ..., False,  True, False],\n",
       "       [ True,  True,  True, ...,  True, False,  True],\n",
       "       [ True, False,  True, ..., False,  True, False],\n",
       "       ...,\n",
       "       [ True,  True, False, ..., False, False, False],\n",
       "       [False,  True,  True, ..., False,  True, False],\n",
       "       [ True,  True,  True, ...,  True, False,  True]])"
      ]
     },
     "execution_count": 47,
     "metadata": {},
     "output_type": "execute_result"
    }
   ],
   "source": [
    "subset_100_2000 = PredictionMatrix('Sample_Input/filtered_network.tsv')\n",
    "subset_100_2000.make_rectangular_matrix()"
   ]
  },
  {
   "cell_type": "code",
   "execution_count": 48,
   "id": "19ad9a07",
   "metadata": {},
   "outputs": [],
   "source": [
    "subset_100_2000_prop = BipartiteGraph(subset_100_2000)"
   ]
  },
  {
   "cell_type": "code",
   "execution_count": 49,
   "id": "78e00553",
   "metadata": {},
   "outputs": [
    {
     "data": {
      "text/plain": [
       "69.17555395852854"
      ]
     },
     "execution_count": 49,
     "metadata": {},
     "output_type": "execute_result"
    }
   ],
   "source": [
    "subset_100_2000_prop.run_parallel(8)"
   ]
  },
  {
   "cell_type": "code",
   "execution_count": 39,
   "id": "9ae84097",
   "metadata": {},
   "outputs": [
    {
     "data": {
      "text/plain": [
       "69.17555395852854"
      ]
     },
     "execution_count": 39,
     "metadata": {},
     "output_type": "execute_result"
    }
   ],
   "source": [
    "subset_100_2000_prop.run_nestedness()"
   ]
  },
  {
   "cell_type": "code",
   "execution_count": 41,
   "id": "6f913790",
   "metadata": {},
   "outputs": [
    {
     "data": {
      "text/plain": [
       "array([[ True, False, False, ..., False, False, False],\n",
       "       [ True,  True, False, ...,  True,  True,  True],\n",
       "       [ True,  True,  True, ..., False,  True,  True],\n",
       "       ...,\n",
       "       [ True,  True,  True, ...,  True,  True,  True],\n",
       "       [False, False, False, ..., False, False, False],\n",
       "       [ True,  True,  True, ...,  True,  True,  True]])"
      ]
     },
     "execution_count": 41,
     "metadata": {},
     "output_type": "execute_result"
    }
   ],
   "source": [
    "subset_7_10000 = PredictionMatrix('Sample_Input/subset_7x10000.tsv')\n",
    "subset_7_10000.make_rectangular_matrix()"
   ]
  },
  {
   "cell_type": "code",
   "execution_count": 42,
   "id": "9bf88077",
   "metadata": {},
   "outputs": [
    {
     "data": {
      "text/plain": [
       "72.78848726401175"
      ]
     },
     "execution_count": 42,
     "metadata": {},
     "output_type": "execute_result"
    }
   ],
   "source": [
    "subset_7_10000_prop = BipartiteGraph(subset_7_10000)\n",
    "subset_7_10000_prop.run_parallel(8)"
   ]
  },
  {
   "cell_type": "code",
   "execution_count": 3,
   "id": "927346af",
   "metadata": {},
   "outputs": [
    {
     "data": {
      "text/plain": [
       "array([[ True, False, False, ..., False, False, False],\n",
       "       [ True,  True, False, ...,  True,  True,  True],\n",
       "       [ True,  True,  True, ..., False,  True,  True],\n",
       "       ...,\n",
       "       [ True, False,  True, ...,  True,  True,  True],\n",
       "       [ True, False,  True, ...,  True,  True,  True],\n",
       "       [ True,  True,  True, ..., False,  True,  True]])"
      ]
     },
     "execution_count": 3,
     "metadata": {},
     "output_type": "execute_result"
    }
   ],
   "source": [
    "myco_large = PredictionMatrix('Sample_Input/myco_predictions_genomad_a2vs_updated.tsv')\n",
    "myco_large.make_rectangular_matrix()"
   ]
  },
  {
   "cell_type": "code",
   "execution_count": 5,
   "id": "4dc23f64",
   "metadata": {},
   "outputs": [
    {
     "data": {
      "text/plain": [
       "(20159, 7)"
      ]
     },
     "execution_count": 5,
     "metadata": {},
     "output_type": "execute_result"
    }
   ],
   "source": [
    "myco_large.virus_host_array.shape"
   ]
  },
  {
   "cell_type": "code",
   "execution_count": 6,
   "id": "295a402e",
   "metadata": {},
   "outputs": [
    {
     "ename": "PicklingError",
     "evalue": "Can't pickle <class 'VirusHostNetworkAnalysis.properties.BipartiteGraph'>: it's not the same object as VirusHostNetworkAnalysis.properties.BipartiteGraph",
     "output_type": "error",
     "traceback": [
      "\u001b[0;31m---------------------------------------------------------------------------\u001b[0m",
      "\u001b[0;31mPicklingError\u001b[0m                             Traceback (most recent call last)",
      "Cell \u001b[0;32mIn[6], line 2\u001b[0m\n\u001b[1;32m      1\u001b[0m myco_large_prop \u001b[38;5;241m=\u001b[39m BipartiteGraph(myco_large)\n\u001b[0;32m----> 2\u001b[0m myco_large_prop\u001b[38;5;241m.\u001b[39mrun_parallel(\u001b[38;5;241m6\u001b[39m)\n",
      "File \u001b[0;32m~/Documents/Duhaime Lab/VirusHostNetworkAnalysis/VirusHostNetworkAnalysis/properties.py:484\u001b[0m, in \u001b[0;36mBipartiteGraph.run_parallel\u001b[0;34m(self, num_procs)\u001b[0m\n\u001b[1;32m    482\u001b[0m \u001b[38;5;66;03m# Calculate nestedness for rows and columns in parallel\u001b[39;00m\n\u001b[1;32m    483\u001b[0m \u001b[38;5;28;01mwith\u001b[39;00m Pool() \u001b[38;5;28;01mas\u001b[39;00m pool:\n\u001b[0;32m--> 484\u001b[0m     nrow \u001b[38;5;241m=\u001b[39m pool\u001b[38;5;241m.\u001b[39mmap(\u001b[38;5;28mself\u001b[39m\u001b[38;5;241m.\u001b[39mnestedness_rows, \u001b[38;5;28mself\u001b[39m\u001b[38;5;241m.\u001b[39mpairs(axis\u001b[38;5;241m=\u001b[39m\u001b[38;5;241m0\u001b[39m))\n\u001b[1;32m    485\u001b[0m     ncol \u001b[38;5;241m=\u001b[39m pool\u001b[38;5;241m.\u001b[39mmap(\u001b[38;5;28mself\u001b[39m\u001b[38;5;241m.\u001b[39mnestedness_cols, \u001b[38;5;28mself\u001b[39m\u001b[38;5;241m.\u001b[39mpairs(axis\u001b[38;5;241m=\u001b[39m\u001b[38;5;241m1\u001b[39m))\n\u001b[1;32m    487\u001b[0m     \u001b[38;5;66;03m# Compute the averages\u001b[39;00m\n",
      "File \u001b[0;32m/opt/anaconda3/lib/python3.12/multiprocessing/pool.py:367\u001b[0m, in \u001b[0;36mPool.map\u001b[0;34m(self, func, iterable, chunksize)\u001b[0m\n\u001b[1;32m    362\u001b[0m \u001b[38;5;28;01mdef\u001b[39;00m \u001b[38;5;21mmap\u001b[39m(\u001b[38;5;28mself\u001b[39m, func, iterable, chunksize\u001b[38;5;241m=\u001b[39m\u001b[38;5;28;01mNone\u001b[39;00m):\n\u001b[1;32m    363\u001b[0m \u001b[38;5;250m    \u001b[39m\u001b[38;5;124;03m'''\u001b[39;00m\n\u001b[1;32m    364\u001b[0m \u001b[38;5;124;03m    Apply `func` to each element in `iterable`, collecting the results\u001b[39;00m\n\u001b[1;32m    365\u001b[0m \u001b[38;5;124;03m    in a list that is returned.\u001b[39;00m\n\u001b[1;32m    366\u001b[0m \u001b[38;5;124;03m    '''\u001b[39;00m\n\u001b[0;32m--> 367\u001b[0m     \u001b[38;5;28;01mreturn\u001b[39;00m \u001b[38;5;28mself\u001b[39m\u001b[38;5;241m.\u001b[39m_map_async(func, iterable, mapstar, chunksize)\u001b[38;5;241m.\u001b[39mget()\n",
      "File \u001b[0;32m/opt/anaconda3/lib/python3.12/multiprocessing/pool.py:774\u001b[0m, in \u001b[0;36mApplyResult.get\u001b[0;34m(self, timeout)\u001b[0m\n\u001b[1;32m    772\u001b[0m     \u001b[38;5;28;01mreturn\u001b[39;00m \u001b[38;5;28mself\u001b[39m\u001b[38;5;241m.\u001b[39m_value\n\u001b[1;32m    773\u001b[0m \u001b[38;5;28;01melse\u001b[39;00m:\n\u001b[0;32m--> 774\u001b[0m     \u001b[38;5;28;01mraise\u001b[39;00m \u001b[38;5;28mself\u001b[39m\u001b[38;5;241m.\u001b[39m_value\n",
      "File \u001b[0;32m/opt/anaconda3/lib/python3.12/multiprocessing/pool.py:540\u001b[0m, in \u001b[0;36mPool._handle_tasks\u001b[0;34m(taskqueue, put, outqueue, pool, cache)\u001b[0m\n\u001b[1;32m    538\u001b[0m     \u001b[38;5;28;01mbreak\u001b[39;00m\n\u001b[1;32m    539\u001b[0m \u001b[38;5;28;01mtry\u001b[39;00m:\n\u001b[0;32m--> 540\u001b[0m     put(task)\n\u001b[1;32m    541\u001b[0m \u001b[38;5;28;01mexcept\u001b[39;00m \u001b[38;5;167;01mException\u001b[39;00m \u001b[38;5;28;01mas\u001b[39;00m e:\n\u001b[1;32m    542\u001b[0m     job, idx \u001b[38;5;241m=\u001b[39m task[:\u001b[38;5;241m2\u001b[39m]\n",
      "File \u001b[0;32m/opt/anaconda3/lib/python3.12/multiprocessing/connection.py:206\u001b[0m, in \u001b[0;36m_ConnectionBase.send\u001b[0;34m(self, obj)\u001b[0m\n\u001b[1;32m    204\u001b[0m \u001b[38;5;28mself\u001b[39m\u001b[38;5;241m.\u001b[39m_check_closed()\n\u001b[1;32m    205\u001b[0m \u001b[38;5;28mself\u001b[39m\u001b[38;5;241m.\u001b[39m_check_writable()\n\u001b[0;32m--> 206\u001b[0m \u001b[38;5;28mself\u001b[39m\u001b[38;5;241m.\u001b[39m_send_bytes(_ForkingPickler\u001b[38;5;241m.\u001b[39mdumps(obj))\n",
      "File \u001b[0;32m/opt/anaconda3/lib/python3.12/multiprocessing/reduction.py:51\u001b[0m, in \u001b[0;36mForkingPickler.dumps\u001b[0;34m(cls, obj, protocol)\u001b[0m\n\u001b[1;32m     48\u001b[0m \u001b[38;5;129m@classmethod\u001b[39m\n\u001b[1;32m     49\u001b[0m \u001b[38;5;28;01mdef\u001b[39;00m \u001b[38;5;21mdumps\u001b[39m(\u001b[38;5;28mcls\u001b[39m, obj, protocol\u001b[38;5;241m=\u001b[39m\u001b[38;5;28;01mNone\u001b[39;00m):\n\u001b[1;32m     50\u001b[0m     buf \u001b[38;5;241m=\u001b[39m io\u001b[38;5;241m.\u001b[39mBytesIO()\n\u001b[0;32m---> 51\u001b[0m     \u001b[38;5;28mcls\u001b[39m(buf, protocol)\u001b[38;5;241m.\u001b[39mdump(obj)\n\u001b[1;32m     52\u001b[0m     \u001b[38;5;28;01mreturn\u001b[39;00m buf\u001b[38;5;241m.\u001b[39mgetbuffer()\n",
      "\u001b[0;31mPicklingError\u001b[0m: Can't pickle <class 'VirusHostNetworkAnalysis.properties.BipartiteGraph'>: it's not the same object as VirusHostNetworkAnalysis.properties.BipartiteGraph"
     ]
    }
   ],
   "source": [
    "myco_large_prop = BipartiteGraph(myco_large)\n",
    "myco_large_prop.run_parallel(6)"
   ]
  }
 ],
 "metadata": {
  "kernelspec": {
   "display_name": "base",
   "language": "python",
   "name": "python3"
  },
  "language_info": {
   "codemirror_mode": {
    "name": "ipython",
    "version": 3
   },
   "file_extension": ".py",
   "mimetype": "text/x-python",
   "name": "python",
   "nbconvert_exporter": "python",
   "pygments_lexer": "ipython3",
   "version": "3.12.3"
  }
 },
 "nbformat": 4,
 "nbformat_minor": 5
}
