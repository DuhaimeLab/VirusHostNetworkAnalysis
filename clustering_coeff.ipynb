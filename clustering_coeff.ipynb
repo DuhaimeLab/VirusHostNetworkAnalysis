{
 "cells": [
  {
   "cell_type": "code",
   "execution_count": 137,
   "id": "4f6fd166",
   "metadata": {},
   "outputs": [],
   "source": [
    "%reload_ext autoreload\n",
    "%autoreload 2\n",
    "from VirusHostNetworkAnalysis.pipeline import Pipeline\n",
    "from VirusHostNetworkAnalysis.prediction_matrix import PredictionMatrix\n",
    "from VirusHostNetworkAnalysis.properties import BipartiteGraph\n",
    "from VirusHostNetworkAnalysis.null_model import ConfigurationModel"
   ]
  },
  {
   "cell_type": "code",
   "execution_count": 3,
   "id": "d21f474a",
   "metadata": {},
   "outputs": [
    {
     "data": {
      "text/plain": [
       "array([[ True, False,  True,  True,  True],\n",
       "       [ True,  True,  True, False, False],\n",
       "       [False,  True,  True,  True, False],\n",
       "       [ True,  True, False, False, False],\n",
       "       [ True,  True, False, False, False]])"
      ]
     },
     "execution_count": 3,
     "metadata": {},
     "output_type": "execute_result"
    }
   ],
   "source": [
    "test = PredictionMatrix(\"tests/test_nestedness.tsv\")\n",
    "test.make_rectangular_matrix()"
   ]
  },
  {
   "cell_type": "code",
   "execution_count": null,
   "id": "78ef80bb",
   "metadata": {},
   "outputs": [],
   "source": [
    "import numpy as np\n",
    "\n",
    "test.virus_host_array = np.array([[0, 1, 1, 1],\n",
    "                         [1, 0, 1, 0],\n",
    "                         [1, 1, 0, 0],\n",
    "                         [1, 0, 0, 0]])\n",
    "test.rows = np.array([\"node1\", \"node2\", \"node3\", \"node4\"])\n",
    "test.columns = np.array([\"node1\", \"node2\", \"node3\", \"node4\"])"
   ]
  },
  {
   "cell_type": "code",
   "execution_count": 91,
   "id": "7de4e06c",
   "metadata": {},
   "outputs": [
    {
     "name": "stdout",
     "output_type": "stream",
     "text": [
      "[[0 0 0 0]\n",
      " [0 0 0 0]\n",
      " [0 0 0 0]\n",
      " [0 0 0 0]]\n"
     ]
    }
   ],
   "source": [
    "print(test.virus_host_array)"
   ]
  },
  {
   "cell_type": "code",
   "execution_count": 92,
   "id": "1d433e73",
   "metadata": {},
   "outputs": [],
   "source": [
    "test_prop = BipartiteGraph(test)"
   ]
  },
  {
   "cell_type": "code",
   "execution_count": 93,
   "id": "dcca1b3f",
   "metadata": {},
   "outputs": [
    {
     "name": "stdout",
     "output_type": "stream",
     "text": [
      "[[0 0 0 0]\n",
      " [0 0 0 0]\n",
      " [0 0 0 0]\n",
      " [0 0 0 0]]\n"
     ]
    }
   ],
   "source": [
    "print(test_prop.input_matrix)"
   ]
  },
  {
   "cell_type": "code",
   "execution_count": 94,
   "id": "106d531d",
   "metadata": {},
   "outputs": [],
   "source": [
    "test_prop.initialize_graph()"
   ]
  },
  {
   "cell_type": "code",
   "execution_count": 95,
   "id": "be3ce8d1",
   "metadata": {},
   "outputs": [
    {
     "name": "stdout",
     "output_type": "stream",
     "text": [
      "Graph with 4 nodes and 0 edges\n"
     ]
    }
   ],
   "source": [
    "print(test_prop.G)"
   ]
  },
  {
   "cell_type": "code",
   "execution_count": 96,
   "id": "42573c28",
   "metadata": {},
   "outputs": [
    {
     "data": {
      "text/plain": [
       "0.0"
      ]
     },
     "execution_count": 96,
     "metadata": {},
     "output_type": "execute_result"
    }
   ],
   "source": [
    "test_prop.calculate_clustering_coefficient()\n"
   ]
  },
  {
   "cell_type": "code",
   "execution_count": 89,
   "id": "1ab03b42",
   "metadata": {},
   "outputs": [
    {
     "name": "stdout",
     "output_type": "stream",
     "text": [
      "0.5833333333333333\n"
     ]
    }
   ],
   "source": [
    "import networkx as nx\n",
    "total = 0\n",
    "for node in test_prop.G.nodes():\n",
    "    neighbours=[n for n in nx.neighbors(test_prop.G,node)]\n",
    "    n_neighbors=len(neighbours)\n",
    "    n_links=0\n",
    "    if n_neighbors>1:\n",
    "        for node1 in neighbours:\n",
    "            for node2 in neighbours:\n",
    "                if test_prop.G.has_edge(node1,node2):\n",
    "                    n_links+=1\n",
    "        n_links/=2 #because n_links is calculated twice\n",
    "        clustering_coefficient=n_links/(0.5*n_neighbors*(n_neighbors-1))\n",
    "        total+=clustering_coefficient\n",
    "print(total/len(test_prop.G.nodes()))\n"
   ]
  },
  {
   "cell_type": "code",
   "execution_count": 181,
   "id": "79237aa4",
   "metadata": {},
   "outputs": [
    {
     "name": "stdout",
     "output_type": "stream",
     "text": [
      "h2 h3\n",
      "['v3', 'v5'] ['v2']\n",
      "['v3'] ['v2']\n",
      "[[0 1 1 1]\n",
      " [1 1 0 0]\n",
      " [1 0 1 0]\n",
      " [1 0 0 0]\n",
      " [0 1 0 0]]\n"
     ]
    }
   ],
   "source": [
    "test.virus_host_array = np.array([[0, 1, 1, 1],\n",
    "                         [1, 0, 1, 0],\n",
    "                         [1, 1, 0, 0],\n",
    "                         [1, 0, 0, 0],\n",
    "                         [0, 1, 0, 0]])\n",
    "test.rows = np.array([\"v1\", \"v2\", \"v3\", \"v4\", \"v5\"])\n",
    "test.columns = np.array([\"h1\", \"h2\", \"h3\", \"h4\"])\n",
    "\n",
    "test_cm = ConfigurationModel(test)\n",
    "test_cm.curveball_method(1)"
   ]
  }
 ],
 "metadata": {
  "kernelspec": {
   "display_name": "base",
   "language": "python",
   "name": "python3"
  },
  "language_info": {
   "codemirror_mode": {
    "name": "ipython",
    "version": 3
   },
   "file_extension": ".py",
   "mimetype": "text/x-python",
   "name": "python",
   "nbconvert_exporter": "python",
   "pygments_lexer": "ipython3",
   "version": "3.12.3"
  }
 },
 "nbformat": 4,
 "nbformat_minor": 5
}
